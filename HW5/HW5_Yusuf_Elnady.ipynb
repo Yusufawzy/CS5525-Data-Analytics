{
 "cells": [
  {
   "cell_type": "code",
   "execution_count": 189,
   "metadata": {
    "ExecuteTime": {
     "end_time": "2020-12-03T02:50:06.918118Z",
     "start_time": "2020-12-03T02:50:06.891191Z"
    }
   },
   "outputs": [],
   "source": [
    "import numpy as np\n",
    "import pandas as pd\n",
    "import random\n",
    "import matplotlib.pyplot as plt\n",
    "import math\n",
    "from sklearn.cluster import KMeans\n",
    "from sklearn.datasets import fetch_20newsgroups\n",
    "from sklearn.feature_extraction.text import TfidfVectorizer,CountVectorizer\n",
    "from nltk.corpus import stopwords \n",
    "from textblob import TextBlob\n",
    "%matplotlib inline\n",
    "from sklearn.preprocessing import Normalizer\n",
    "from sklearn.model_selection import train_test_split\n",
    "from sklearn.linear_model import LinearRegression, LogisticRegression, LogisticRegressionCV\n",
    "from sklearn.metrics import confusion_matrix"
   ]
  },
  {
   "cell_type": "markdown",
   "metadata": {},
   "source": [
    "# Q5. K-means Clustering "
   ]
  },
  {
   "cell_type": "code",
   "execution_count": 155,
   "metadata": {
    "ExecuteTime": {
     "end_time": "2020-12-03T01:25:00.356413Z",
     "start_time": "2020-12-03T01:24:56.160772Z"
    }
   },
   "outputs": [
    {
     "name": "stderr",
     "output_type": "stream",
     "text": [
      "c:\\users\\yusuf\\appdata\\local\\programs\\python\\python37\\lib\\site-packages\\sklearn\\feature_extraction\\text.py:386: UserWarning: Your stop_words may be inconsistent with your preprocessing. Tokenizing the stop words generated tokens ['abov', 'afterward', 'alon', 'alreadi', 'alway', 'ani', 'anoth', 'anyon', 'anyth', 'anywher', 'becam', 'becaus', 'becom', 'befor', 'besid', 'cri', 'describ', 'dure', 'els', 'elsewher', 'empti', 'everi', 'everyon', 'everyth', 'everywher', 'fifti', 'formerli', 'forti', 'ha', 'henc', 'hereaft', 'herebi', 'hi', 'howev', 'hundr', 'inde', 'latterli', 'mani', 'meanwhil', 'moreov', 'mostli', 'nobodi', 'noon', 'noth', 'nowher', 'onc', 'onli', 'otherwis', 'ourselv', 'perhap', 'pleas', 'seriou', 'sever', 'sinc', 'sincer', 'sixti', 'someon', 'someth', 'sometim', 'somewher', 'themselv', 'thenc', 'thereaft', 'therebi', 'therefor', 'thi', 'thu', 'togeth', 'twelv', 'twenti', 'veri', 'wa', 'whatev', 'whenc', 'whenev', 'wherea', 'whereaft', 'wherebi', 'wherev', 'whi', 'yourselv'] not in stop_words.\n",
      "  'stop_words.' % sorted(inconsistent))\n"
     ]
    }
   ],
   "source": [
    "#Q5.1,2\n",
    "\n",
    "all_data = fetch_20newsgroups(subset='all') #11314 Data Points\n",
    "\n",
    "def stemmer(row):\n",
    "    tokens = TextBlob(row.lower()).words\n",
    "    words = [token.stem() for token in tokens]\n",
    "    return words\n",
    "\n",
    "\n",
    "data = random.choices(all_data.data, k=300)\n",
    "\n",
    "# Building the tf-idf vectorizer\n",
    "vectorizer = TfidfVectorizer(tokenizer=stemmer, stop_words='english')\n",
    "matrix = vectorizer.fit_transform(data)\n",
    "\n",
    "#terms will be used later in printing the most frequent items\n",
    "terms = vectorizer.get_feature_names()"
   ]
  },
  {
   "cell_type": "code",
   "execution_count": 156,
   "metadata": {
    "ExecuteTime": {
     "end_time": "2020-12-03T01:25:02.784889Z",
     "start_time": "2020-12-03T01:25:02.630303Z"
    }
   },
   "outputs": [
    {
     "data": {
      "text/plain": [
       "KMeans(max_iter=100, n_clusters=5)"
      ]
     },
     "execution_count": 156,
     "metadata": {},
     "output_type": "execute_result"
    }
   ],
   "source": [
    "#Q5.3\n",
    "k=5\n",
    "model = KMeans(n_clusters=k,init='k-means++',max_iter=100)\n",
    "model.fit(matrix)"
   ]
  },
  {
   "cell_type": "code",
   "execution_count": 167,
   "metadata": {
    "ExecuteTime": {
     "end_time": "2020-12-03T02:02:18.541116Z",
     "start_time": "2020-12-03T02:02:18.529150Z"
    }
   },
   "outputs": [
    {
     "name": "stdout",
     "output_type": "stream",
     "text": [
      "Top representative terms per cluster:\n",
      "Cluster 0: sterl, tsakc, twisto.compaq.com, mppa3, hmm, there', non-human, paid-for, neuralgia, indian\n",
      "Cluster 1: 'junk, legendari, oak.oakland.edu, spleen, turkey, vos.stratus.com, nc, treatment, atom, keysiz\n",
      "Cluster 2: mpce.mq.edu.au, wierd, respons, 'net, feenix.metronet.com, mpce, cb650, foundat, 12mb, akin\n",
      "Cluster 3: erixon, erh0362, 4488, indescrimin, erika, consol, amicu, nasa/jpl/caltech, eventu, tclock\n",
      "Cluster 4: barn, bcso, streak, inexpenc, saltillo.cs.utexas.edu, 29848, order, gif, believ, info\n"
     ]
    }
   ],
   "source": [
    "#Q5.4\n",
    "# http://jonathansoma.com/lede/algorithms-2017/classes/clustering/k-means-clustering-with-scikit-learn/\n",
    "print(\"Top representative terms per cluster:\")\n",
    "order_centroids = clusters.cluster_centers_.argsort()[:, ::-1]\n",
    "for i in range(k): #for each cluster\n",
    "    top_ten_words = [terms[ind] for ind in order_centroids[i, :10]] \n",
    "    print(\"Cluster {}: {}\".format(i, ', '.join(top_ten_words)))"
   ]
  },
  {
   "cell_type": "code",
   "execution_count": 170,
   "metadata": {
    "ExecuteTime": {
     "end_time": "2020-12-03T02:03:19.156515Z",
     "start_time": "2020-12-03T02:03:19.140561Z"
    }
   },
   "outputs": [
    {
     "data": {
      "text/plain": [
       "4"
      ]
     },
     "execution_count": 170,
     "metadata": {},
     "output_type": "execute_result"
    }
   ],
   "source": [
    "#Q5.5\n",
    "# The title is from https://www.npr.org/sections/coronavirus-live-updates/2020/12/02/941584691/virginia-county-votes-to-reject-gov-northams-coronavirus-restrictions\n",
    "\n",
    "X = vectorizer.transform([\"Virginia County Votes To Reject Gov. Northam's Coronavirus Restrictions\"])\n",
    "\n",
    "model.predict(X)[0]"
   ]
  },
  {
   "cell_type": "markdown",
   "metadata": {},
   "source": [
    "# Q6. Regression Analysis"
   ]
  },
  {
   "cell_type": "code",
   "execution_count": 217,
   "metadata": {
    "ExecuteTime": {
     "end_time": "2020-12-03T22:18:02.860508Z",
     "start_time": "2020-12-03T22:18:02.664691Z"
    }
   },
   "outputs": [],
   "source": [
    "data = pd.read_excel('ENB2012_data.xlsx')\n",
    "data = data.sort_values(by=['X1'],ascending=False)"
   ]
  },
  {
   "cell_type": "code",
   "execution_count": 218,
   "metadata": {
    "ExecuteTime": {
     "end_time": "2020-12-03T22:18:04.463104Z",
     "start_time": "2020-12-03T22:18:04.434061Z"
    }
   },
   "outputs": [],
   "source": [
    "nr = Normalizer(copy=False)\n",
    "X = data.drop(['Y'], axis=1)\n",
    "X = nr.fit_transform(X)\n",
    "y = data[['Y']]\n",
    "\n",
    "X_train, X_test, y_train, y_test = train_test_split(X, y, test_size = 0.2, random_state = 32)\n"
   ]
  },
  {
   "cell_type": "code",
   "execution_count": 259,
   "metadata": {
    "ExecuteTime": {
     "end_time": "2020-12-03T22:31:12.673943Z",
     "start_time": "2020-12-03T22:31:12.619362Z"
    }
   },
   "outputs": [
    {
     "name": "stdout",
     "output_type": "stream",
     "text": [
      "Using the cross validation on our Linear Regression Model the range of the scores our model can get are varying between 0.8833396083426609 and 0.9909928470046097\n",
      "The confusion matrix for the Linear Regression Model is:\n",
      "[[75  0]\n",
      " [ 6 73]]\n",
      "The accuracy for the Linear Regression Model is: 96.1038961038961\n"
     ]
    }
   ],
   "source": [
    "from sklearn.model_selection import KFold ,cross_val_score\n",
    "# Multivariate Linear Regression\n",
    "clf = LinearRegression().fit(X_train, y_train)\n",
    "folds = KFold(n_splits = 5, shuffle = True)\n",
    "scores = cross_val_score(clf, X_train, y_train, scoring='r2', cv=5)\n",
    "print(\"Using the cross validation on our Linear Regression Model the range of the scores our model can get are varying between\",\n",
    "      min(scores),\"and\",max(scores))   \n",
    "\n",
    "y_pred = clf.predict(X_test)\n",
    "modified_y_pred = []\n",
    "for value in y_pred:\n",
    "    if (value[0])<=0.5:\n",
    "        modified_y_pred.append([0])\n",
    "    else :\n",
    "        modified_y_pred.append([1])\n",
    "\n",
    "print(\"The confusion matrix for the Linear Regression Model is:\")\n",
    "print(confusion_matrix(y_test, modified_y_pred))\n",
    "\n",
    "tn, fp, fn, tp = confusion_matrix(y_test, modified_y_pred).ravel()\n",
    "\n",
    "print(\"The accuracy for the Linear Regression Model is:\",(tn+tp)/(tn+fp+fn+tp)*100)"
   ]
  },
  {
   "cell_type": "code",
   "execution_count": 256,
   "metadata": {
    "ExecuteTime": {
     "end_time": "2020-12-03T22:26:15.751486Z",
     "start_time": "2020-12-03T22:26:14.783101Z"
    },
    "scrolled": false
   },
   "outputs": [],
   "source": [
    "# Logistic Regression\n",
    "\n",
    "clf = LogisticRegressionCV(cv=5).fit(X_train, y_train)\n",
    "folds = KFold(n_splits = 5, shuffle = True)\n",
    "scores = cross_val_score(clf, X_train, y_train, scoring='r2', cv=5)\n",
    "\n"
   ]
  },
  {
   "cell_type": "code",
   "execution_count": 258,
   "metadata": {
    "ExecuteTime": {
     "end_time": "2020-12-03T22:26:37.516281Z",
     "start_time": "2020-12-03T22:26:37.501322Z"
    }
   },
   "outputs": [
    {
     "name": "stdout",
     "output_type": "stream",
     "text": [
      "Using the cross validation on our Logistic Regression Model the range of the scores our model can get are varying between 0.8694960212201591 and 1.0\n",
      "The confusion matrix for the Logistic Regression Model is:\n",
      "[[75  0]\n",
      " [ 6 73]]\n",
      "The accuracy for the Logistic Regression Model is: 96.1038961038961\n"
     ]
    }
   ],
   "source": [
    "print(\"Using the cross validation on our Logistic Regression Model the range of the scores our model can get are varying between\",\n",
    "      min(scores),\"and\",max(scores))   \n",
    "\n",
    "y_pred = clf.predict(X_test)\n",
    "\n",
    "# In this confusion matrix Rows are the true classes\n",
    "print(\"The confusion matrix for the Logistic Regression Model is:\")\n",
    "print(confusion_matrix(y_test, y_pred))\n",
    "\n",
    "tn, fp, fn, tp = confusion_matrix(y_test, y_pred).ravel()\n",
    "\n",
    "print(\"The accuracy for the Logistic Regression Model is:\",(tn+tp)/(tn+fp+fn+tp)*100)\n"
   ]
  }
 ],
 "metadata": {
  "hide_input": false,
  "kernelspec": {
   "display_name": "Python 3",
   "language": "python",
   "name": "python3"
  },
  "language_info": {
   "codemirror_mode": {
    "name": "ipython",
    "version": 3
   },
   "file_extension": ".py",
   "mimetype": "text/x-python",
   "name": "python",
   "nbconvert_exporter": "python",
   "pygments_lexer": "ipython3",
   "version": "3.7.3"
  },
  "toc": {
   "base_numbering": 1,
   "nav_menu": {},
   "number_sections": true,
   "sideBar": true,
   "skip_h1_title": false,
   "title_cell": "Table of Contents",
   "title_sidebar": "Contents",
   "toc_cell": false,
   "toc_position": {},
   "toc_section_display": true,
   "toc_window_display": false
  },
  "varInspector": {
   "cols": {
    "lenName": 16,
    "lenType": 16,
    "lenVar": 40
   },
   "kernels_config": {
    "python": {
     "delete_cmd_postfix": "",
     "delete_cmd_prefix": "del ",
     "library": "var_list.py",
     "varRefreshCmd": "print(var_dic_list())"
    },
    "r": {
     "delete_cmd_postfix": ") ",
     "delete_cmd_prefix": "rm(",
     "library": "var_list.r",
     "varRefreshCmd": "cat(var_dic_list()) "
    }
   },
   "types_to_exclude": [
    "module",
    "function",
    "builtin_function_or_method",
    "instance",
    "_Feature"
   ],
   "window_display": false
  }
 },
 "nbformat": 4,
 "nbformat_minor": 2
}
