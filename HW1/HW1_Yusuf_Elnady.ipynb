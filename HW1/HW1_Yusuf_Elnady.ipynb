{
 "cells": [
  {
   "cell_type": "markdown",
   "metadata": {},
   "source": [
    "**Name: Yusuf Elnady**\n"
   ]
  },
  {
   "cell_type": "markdown",
   "metadata": {},
   "source": [
    "# Imports"
   ]
  },
  {
   "cell_type": "code",
   "execution_count": 1,
   "metadata": {
    "ExecuteTime": {
     "end_time": "2020-10-18T11:32:28.447499Z",
     "start_time": "2020-10-18T11:31:49.044512Z"
    }
   },
   "outputs": [],
   "source": [
    "%matplotlib inline\n",
    "import numpy as np\n",
    "import sys\n",
    "import matplotlib.pyplot as plt\n",
    "import networkx as nx\n",
    "import pandas as pd\n",
    "from scipy.sparse.csgraph import dijkstra\n",
    "from scipy.io import loadmat \n",
    "np.set_printoptions(threshold=sys.maxsize)\n",
    "import seaborn as sns"
   ]
  },
  {
   "cell_type": "markdown",
   "metadata": {},
   "source": [
    "# Problem 4"
   ]
  },
  {
   "cell_type": "code",
   "execution_count": 2,
   "metadata": {
    "ExecuteTime": {
     "end_time": "2020-10-18T11:33:25.371136Z",
     "start_time": "2020-10-18T11:33:25.206960Z"
    }
   },
   "outputs": [],
   "source": [
    "data = loadmat('data.mat')['X_data'].T"
   ]
  },
  {
   "cell_type": "code",
   "execution_count": 3,
   "metadata": {
    "ExecuteTime": {
     "end_time": "2020-10-18T11:33:27.631657Z",
     "start_time": "2020-10-18T11:33:27.167666Z"
    }
   },
   "outputs": [
    {
     "data": {
      "text/html": [
       "<div>\n",
       "<style scoped>\n",
       "    .dataframe tbody tr th:only-of-type {\n",
       "        vertical-align: middle;\n",
       "    }\n",
       "\n",
       "    .dataframe tbody tr th {\n",
       "        vertical-align: top;\n",
       "    }\n",
       "\n",
       "    .dataframe thead th {\n",
       "        text-align: right;\n",
       "    }\n",
       "</style>\n",
       "<table border=\"1\" class=\"dataframe\">\n",
       "  <thead>\n",
       "    <tr style=\"text-align: right;\">\n",
       "      <th></th>\n",
       "      <th>0</th>\n",
       "      <th>1</th>\n",
       "      <th>2</th>\n",
       "      <th>3</th>\n",
       "      <th>4</th>\n",
       "      <th>5</th>\n",
       "      <th>6</th>\n",
       "      <th>7</th>\n",
       "    </tr>\n",
       "  </thead>\n",
       "  <tbody>\n",
       "    <tr>\n",
       "      <th>0</th>\n",
       "      <td>0.000000</td>\n",
       "      <td>19.785404</td>\n",
       "      <td>18.106390</td>\n",
       "      <td>15.303795</td>\n",
       "      <td>16.152285</td>\n",
       "      <td>9.020344</td>\n",
       "      <td>20.270749</td>\n",
       "      <td>23.205982</td>\n",
       "    </tr>\n",
       "    <tr>\n",
       "      <th>1</th>\n",
       "      <td>19.785404</td>\n",
       "      <td>0.000000</td>\n",
       "      <td>16.302516</td>\n",
       "      <td>20.059622</td>\n",
       "      <td>6.049194</td>\n",
       "      <td>18.741645</td>\n",
       "      <td>3.729406</td>\n",
       "      <td>27.115826</td>\n",
       "    </tr>\n",
       "    <tr>\n",
       "      <th>2</th>\n",
       "      <td>18.106390</td>\n",
       "      <td>16.302516</td>\n",
       "      <td>0.000000</td>\n",
       "      <td>15.545197</td>\n",
       "      <td>16.331315</td>\n",
       "      <td>23.908451</td>\n",
       "      <td>19.658936</td>\n",
       "      <td>13.989015</td>\n",
       "    </tr>\n",
       "    <tr>\n",
       "      <th>3</th>\n",
       "      <td>15.303795</td>\n",
       "      <td>20.059622</td>\n",
       "      <td>15.545197</td>\n",
       "      <td>0.000000</td>\n",
       "      <td>20.975731</td>\n",
       "      <td>20.904075</td>\n",
       "      <td>21.736345</td>\n",
       "      <td>13.203144</td>\n",
       "    </tr>\n",
       "    <tr>\n",
       "      <th>4</th>\n",
       "      <td>16.152285</td>\n",
       "      <td>6.049194</td>\n",
       "      <td>16.331315</td>\n",
       "      <td>20.975731</td>\n",
       "      <td>0.000000</td>\n",
       "      <td>14.554975</td>\n",
       "      <td>6.479995</td>\n",
       "      <td>28.031548</td>\n",
       "    </tr>\n",
       "    <tr>\n",
       "      <th>5</th>\n",
       "      <td>9.020344</td>\n",
       "      <td>18.741645</td>\n",
       "      <td>23.908451</td>\n",
       "      <td>20.904075</td>\n",
       "      <td>14.554975</td>\n",
       "      <td>0.000000</td>\n",
       "      <td>17.542457</td>\n",
       "      <td>30.944231</td>\n",
       "    </tr>\n",
       "    <tr>\n",
       "      <th>6</th>\n",
       "      <td>20.270749</td>\n",
       "      <td>3.729406</td>\n",
       "      <td>19.658936</td>\n",
       "      <td>21.736345</td>\n",
       "      <td>6.479995</td>\n",
       "      <td>17.542457</td>\n",
       "      <td>0.000000</td>\n",
       "      <td>30.048003</td>\n",
       "    </tr>\n",
       "    <tr>\n",
       "      <th>7</th>\n",
       "      <td>23.205982</td>\n",
       "      <td>27.115826</td>\n",
       "      <td>13.989015</td>\n",
       "      <td>13.203144</td>\n",
       "      <td>28.031548</td>\n",
       "      <td>30.944231</td>\n",
       "      <td>30.048003</td>\n",
       "      <td>0.000000</td>\n",
       "    </tr>\n",
       "  </tbody>\n",
       "</table>\n",
       "</div>"
      ],
      "text/plain": [
       "           0          1          2          3          4          5  \\\n",
       "0   0.000000  19.785404  18.106390  15.303795  16.152285   9.020344   \n",
       "1  19.785404   0.000000  16.302516  20.059622   6.049194  18.741645   \n",
       "2  18.106390  16.302516   0.000000  15.545197  16.331315  23.908451   \n",
       "3  15.303795  20.059622  15.545197   0.000000  20.975731  20.904075   \n",
       "4  16.152285   6.049194  16.331315  20.975731   0.000000  14.554975   \n",
       "5   9.020344  18.741645  23.908451  20.904075  14.554975   0.000000   \n",
       "6  20.270749   3.729406  19.658936  21.736345   6.479995  17.542457   \n",
       "7  23.205982  27.115826  13.989015  13.203144  28.031548  30.944231   \n",
       "\n",
       "           6          7  \n",
       "0  20.270749  23.205982  \n",
       "1   3.729406  27.115826  \n",
       "2  19.658936  13.989015  \n",
       "3  21.736345  13.203144  \n",
       "4   6.479995  28.031548  \n",
       "5  17.542457  30.944231  \n",
       "6   0.000000  30.048003  \n",
       "7  30.048003   0.000000  "
      ]
     },
     "execution_count": 3,
     "metadata": {},
     "output_type": "execute_result"
    }
   ],
   "source": [
    "def constructGraph(data,k,d):\n",
    "    N = data.shape[0]\n",
    "    distmat = np.zeros([N,N]) #Reserve a space for the squared distance matrix\n",
    "    for i in range(N):\n",
    "        for j in range(N):\n",
    "            #calculate the pairwise distance matrix using the eculidean distance\n",
    "            distmat[i][j] = np.sqrt((data[i,0]-data[j,0])**2 +(data[i,1]-data[j,1])**2 + (data[i,2]-data[j,2])**2 )      \n",
    "    knn_matrix = np.zeros((N,N))\n",
    "    for i in range(N):\n",
    "        #get the indices of the k-shortest pairwise distance in distmat\n",
    "        inds = np.argpartition(distmat[i],k)[:k]\n",
    "        for idx in inds:\n",
    "            knn_matrix[i,idx]=1#distmat[i,idx]\n",
    "            knn_matrix[idx,i]=1#distmat[i,idx]\n",
    "    ecul_matrix = distmat <d - np.eye(N)#convert the distance matrix to a adjacency matrix\n",
    "    knn_matrix = knn_matrix - np.eye(N)\n",
    "    return distmat,knn_matrix,ecul_matrix\n",
    "\n",
    "distmat,knn_matrix,ecul_matrix = constructGraph(data,5,6)\n",
    "pd.DataFrame(distmat[:8,:8])    \n"
   ]
  },
  {
   "cell_type": "code",
   "execution_count": 336,
   "metadata": {
    "ExecuteTime": {
     "end_time": "2020-09-24T20:48:28.482753Z",
     "start_time": "2020-09-24T20:48:27.653971Z"
    }
   },
   "outputs": [
    {
     "data": {
      "image/png": "[encoded data removed]",
      "text/plain": [
       "<Figure size 432x288 with 1 Axes>"
      ]
     },
     "metadata": {},
     "output_type": "display_data"
    }
   ],
   "source": [
    "X = nx.from_numpy_matrix(knn_matrix) #convert the adjacency matrix to a nx matrix so it can be plotted\n",
    "nx.draw(X,node_size=15,width =0.5,edge_color='b',node_color='b')\n",
    "plt.savefig(\"4\")"
   ]
  },
  {
   "cell_type": "code",
   "execution_count": 337,
   "metadata": {
    "ExecuteTime": {
     "end_time": "2020-09-24T20:48:29.115062Z",
     "start_time": "2020-09-24T20:48:28.485747Z"
    }
   },
   "outputs": [
    {
     "data": {
      "image/png": "[encoded data removed]",
      "text/plain": [
       "<Figure size 432x288 with 1 Axes>"
      ]
     },
     "metadata": {},
     "output_type": "display_data"
    }
   ],
   "source": [
    "X = nx.from_numpy_matrix(ecul_matrix) #convert the adjacency matrix to a nx matrix so it can be plotted\n",
    "nx.draw(X,node_size=15,width =0.5,edge_color='b',node_color='b')\n",
    "plt.savefig(\"4\")"
   ]
  },
  {
   "cell_type": "code",
   "execution_count": 338,
   "metadata": {
    "ExecuteTime": {
     "end_time": "2020-09-24T20:48:29.176897Z",
     "start_time": "2020-09-24T20:48:29.120486Z"
    }
   },
   "outputs": [
    {
     "data": {
      "text/html": [
       "<div>\n",
       "<style scoped>\n",
       "    .dataframe tbody tr th:only-of-type {\n",
       "        vertical-align: middle;\n",
       "    }\n",
       "\n",
       "    .dataframe tbody tr th {\n",
       "        vertical-align: top;\n",
       "    }\n",
       "\n",
       "    .dataframe thead th {\n",
       "        text-align: right;\n",
       "    }\n",
       "</style>\n",
       "<table border=\"1\" class=\"dataframe\">\n",
       "  <thead>\n",
       "    <tr style=\"text-align: right;\">\n",
       "      <th></th>\n",
       "      <th>0</th>\n",
       "      <th>1</th>\n",
       "      <th>2</th>\n",
       "      <th>3</th>\n",
       "      <th>4</th>\n",
       "      <th>5</th>\n",
       "      <th>6</th>\n",
       "      <th>7</th>\n",
       "    </tr>\n",
       "  </thead>\n",
       "  <tbody>\n",
       "    <tr>\n",
       "      <th>0</th>\n",
       "      <td>0.000000</td>\n",
       "      <td>29.624514</td>\n",
       "      <td>30.848992</td>\n",
       "      <td>15.303795</td>\n",
       "      <td>23.575319</td>\n",
       "      <td>9.020344</td>\n",
       "      <td>30.055315</td>\n",
       "      <td>28.506939</td>\n",
       "    </tr>\n",
       "    <tr>\n",
       "      <th>1</th>\n",
       "      <td>29.624514</td>\n",
       "      <td>0.000000</td>\n",
       "      <td>60.473505</td>\n",
       "      <td>44.928308</td>\n",
       "      <td>6.049194</td>\n",
       "      <td>20.604169</td>\n",
       "      <td>3.729406</td>\n",
       "      <td>58.131453</td>\n",
       "    </tr>\n",
       "    <tr>\n",
       "      <th>2</th>\n",
       "      <td>30.848992</td>\n",
       "      <td>60.473505</td>\n",
       "      <td>0.000000</td>\n",
       "      <td>15.545197</td>\n",
       "      <td>54.424311</td>\n",
       "      <td>39.869336</td>\n",
       "      <td>60.904306</td>\n",
       "      <td>13.989015</td>\n",
       "    </tr>\n",
       "    <tr>\n",
       "      <th>3</th>\n",
       "      <td>15.303795</td>\n",
       "      <td>44.928308</td>\n",
       "      <td>15.545197</td>\n",
       "      <td>0.000000</td>\n",
       "      <td>38.879114</td>\n",
       "      <td>24.324139</td>\n",
       "      <td>45.359109</td>\n",
       "      <td>13.203144</td>\n",
       "    </tr>\n",
       "    <tr>\n",
       "      <th>4</th>\n",
       "      <td>23.575319</td>\n",
       "      <td>6.049194</td>\n",
       "      <td>54.424311</td>\n",
       "      <td>38.879114</td>\n",
       "      <td>0.000000</td>\n",
       "      <td>14.554975</td>\n",
       "      <td>6.479995</td>\n",
       "      <td>52.082258</td>\n",
       "    </tr>\n",
       "    <tr>\n",
       "      <th>5</th>\n",
       "      <td>9.020344</td>\n",
       "      <td>20.604169</td>\n",
       "      <td>39.869336</td>\n",
       "      <td>24.324139</td>\n",
       "      <td>14.554975</td>\n",
       "      <td>0.000000</td>\n",
       "      <td>21.034970</td>\n",
       "      <td>37.527283</td>\n",
       "    </tr>\n",
       "    <tr>\n",
       "      <th>6</th>\n",
       "      <td>30.055315</td>\n",
       "      <td>3.729406</td>\n",
       "      <td>60.904306</td>\n",
       "      <td>45.359109</td>\n",
       "      <td>6.479995</td>\n",
       "      <td>21.034970</td>\n",
       "      <td>0.000000</td>\n",
       "      <td>58.562254</td>\n",
       "    </tr>\n",
       "    <tr>\n",
       "      <th>7</th>\n",
       "      <td>28.506939</td>\n",
       "      <td>58.131453</td>\n",
       "      <td>13.989015</td>\n",
       "      <td>13.203144</td>\n",
       "      <td>52.082258</td>\n",
       "      <td>37.527283</td>\n",
       "      <td>58.562254</td>\n",
       "      <td>0.000000</td>\n",
       "    </tr>\n",
       "  </tbody>\n",
       "</table>\n",
       "</div>"
      ],
      "text/plain": [
       "           0          1          2          3          4          5  \\\n",
       "0   0.000000  29.624514  30.848992  15.303795  23.575319   9.020344   \n",
       "1  29.624514   0.000000  60.473505  44.928308   6.049194  20.604169   \n",
       "2  30.848992  60.473505   0.000000  15.545197  54.424311  39.869336   \n",
       "3  15.303795  44.928308  15.545197   0.000000  38.879114  24.324139   \n",
       "4  23.575319   6.049194  54.424311  38.879114   0.000000  14.554975   \n",
       "5   9.020344  20.604169  39.869336  24.324139  14.554975   0.000000   \n",
       "6  30.055315   3.729406  60.904306  45.359109   6.479995  21.034970   \n",
       "7  28.506939  58.131453  13.989015  13.203144  52.082258  37.527283   \n",
       "\n",
       "           6          7  \n",
       "0  30.055315  28.506939  \n",
       "1   3.729406  58.131453  \n",
       "2  60.904306  13.989015  \n",
       "3  45.359109  13.203144  \n",
       "4   6.479995  52.082258  \n",
       "5  21.034970  37.527283  \n",
       "6   0.000000  58.562254  \n",
       "7  58.562254   0.000000  "
      ]
     },
     "execution_count": 338,
     "metadata": {},
     "output_type": "execute_result"
    }
   ],
   "source": [
    "#We better calculate the geodesic distance using a matrix of knn neighbors, a good number may be 3\n",
    "def geodist(distmat,neighborsmat):\n",
    "    #we want a matrix of only the connected neighbor points together, we multiplied by distmat so it is not only \n",
    "    # consisted of 1s, but also of the actual distmat values\n",
    "    x = np.multiply(distmat,neighborsmat) \n",
    "    g = dijkstra(x,directed=False)\n",
    "    return g\n",
    "\n",
    "\n",
    "#I want to send only the first 8 points, but with all of its 3 features, so [:8,:]\n",
    "#Originally I have 200 rows, each with 3 features/columns only\n",
    "distmat,knn_matrix,ecul_matrix=constructGraph(data[:8,:],d=6,k=3)\n",
    "g = geodist(distmat,knn_matrix)\n",
    "pd.DataFrame(g)"
   ]
  },
  {
   "cell_type": "code",
   "execution_count": 339,
   "metadata": {
    "ExecuteTime": {
     "end_time": "2020-09-24T20:48:29.676649Z",
     "start_time": "2020-09-24T20:48:29.180631Z"
    }
   },
   "outputs": [
    {
     "data": {
      "image/png": "[encoded data removed]",
      "text/plain": [
       "<Figure size 432x288 with 1 Axes>"
      ]
     },
     "metadata": {},
     "output_type": "display_data"
    }
   ],
   "source": [
    "X = nx.from_numpy_matrix(knn_matrix) #convert the adjacency matrix to a nx matrix so it can be plotted\n",
    "nx.draw(X,node_size=15,width =0.5,edge_color='b',node_color='b')"
   ]
  },
  {
   "cell_type": "code",
   "execution_count": 340,
   "metadata": {
    "ExecuteTime": {
     "end_time": "2020-09-24T20:48:30.147369Z",
     "start_time": "2020-09-24T20:48:29.687696Z"
    }
   },
   "outputs": [
    {
     "data": {
      "image/png": "[encoded data removed]",
      "text/plain": [
       "<Figure size 432x288 with 1 Axes>"
      ]
     },
     "metadata": {},
     "output_type": "display_data"
    }
   ],
   "source": [
    "X = nx.from_numpy_matrix(ecul_matrix) #convert the adjacency matrix to a nx matrix so it can be plotted\n",
    "nx.draw(X,node_size=15,width =0.5,edge_color='b',node_color='b')"
   ]
  },
  {
   "cell_type": "markdown",
   "metadata": {},
   "source": [
    "# Problem 5"
   ]
  },
  {
   "cell_type": "code",
   "execution_count": 4,
   "metadata": {
    "ExecuteTime": {
     "end_time": "2020-10-18T11:33:34.439940Z",
     "start_time": "2020-10-18T11:33:34.035956Z"
    }
   },
   "outputs": [],
   "source": [
    "df = pd.read_csv('thick.csv')[:100]\n",
    "df.drop(['Date.Time'],axis=1,inplace=True)"
   ]
  },
  {
   "cell_type": "code",
   "execution_count": 5,
   "metadata": {
    "ExecuteTime": {
     "end_time": "2020-10-18T11:33:37.939992Z",
     "start_time": "2020-10-18T11:33:36.919048Z"
    }
   },
   "outputs": [
    {
     "data": {
      "image/png": "[encoded data removed]",
      "text/plain": [
       "<Figure size 720x720 with 1 Axes>"
      ]
     },
     "metadata": {
      "needs_background": "light"
     },
     "output_type": "display_data"
    }
   ],
   "source": [
    "fig, ax = plt.subplots(figsize=(10,10))\n",
    "sns.boxplot(ax=ax,data=df, palette=\"Set3\")\n",
    "plt.savefig(\"5\")"
   ]
  },
  {
   "cell_type": "markdown",
   "metadata": {
    "ExecuteTime": {
     "end_time": "2020-09-23T19:25:00.410843Z",
     "start_time": "2020-09-23T19:24:59.771552Z"
    }
   },
   "source": [
    "# Problem 6"
   ]
  },
  {
   "cell_type": "code",
   "execution_count": 38,
   "metadata": {
    "ExecuteTime": {
     "end_time": "2020-10-19T03:16:26.149670Z",
     "start_time": "2020-10-19T03:16:26.104758Z"
    }
   },
   "outputs": [],
   "source": [
    "#(1) Import the data file food.csv in python.\n",
    "df = pd.read_csv(\"food.csv\")\n",
    "df.drop(df.columns[0],axis=1,inplace=True)\n",
    "M = df.shape[0]"
   ]
  },
  {
   "cell_type": "code",
   "execution_count": 95,
   "metadata": {
    "ExecuteTime": {
     "end_time": "2020-10-19T04:41:55.337788Z",
     "start_time": "2020-10-19T04:41:55.325418Z"
    }
   },
   "outputs": [],
   "source": [
    "#(2) Centring\n",
    "# stats.zscore(df), gives the same  \n",
    "normalized = np.zeros(df.shape)\n",
    "X = df.to_numpy()\n",
    "\n",
    "for i in range(normalized.shape[1]):\n",
    "    deviation = np.std(X[:,i])\n",
    "    mean = np.mean(X[:,i])   #Get the mean of all rows for the column (i)\n",
    "    normalized[:,i]= (X[:,i]-mean)/deviation\n"
   ]
  },
  {
   "cell_type": "code",
   "execution_count": 40,
   "metadata": {
    "ExecuteTime": {
     "end_time": "2020-10-19T03:16:46.825273Z",
     "start_time": "2020-10-19T03:16:46.796351Z"
    }
   },
   "outputs": [
    {
     "data": {
      "text/html": [
       "<div>\n",
       "<style scoped>\n",
       "    .dataframe tbody tr th:only-of-type {\n",
       "        vertical-align: middle;\n",
       "    }\n",
       "\n",
       "    .dataframe tbody tr th {\n",
       "        vertical-align: top;\n",
       "    }\n",
       "\n",
       "    .dataframe thead th {\n",
       "        text-align: right;\n",
       "    }\n",
       "</style>\n",
       "<table border=\"1\" class=\"dataframe\">\n",
       "  <thead>\n",
       "    <tr style=\"text-align: right;\">\n",
       "      <th></th>\n",
       "      <th>0</th>\n",
       "      <th>1</th>\n",
       "      <th>2</th>\n",
       "      <th>3</th>\n",
       "      <th>4</th>\n",
       "    </tr>\n",
       "  </thead>\n",
       "  <tbody>\n",
       "    <tr>\n",
       "      <th>0</th>\n",
       "      <td>1.000000</td>\n",
       "      <td>-0.750024</td>\n",
       "      <td>0.593086</td>\n",
       "      <td>-0.533739</td>\n",
       "      <td>-0.096045</td>\n",
       "    </tr>\n",
       "    <tr>\n",
       "      <th>1</th>\n",
       "      <td>-0.750024</td>\n",
       "      <td>1.000000</td>\n",
       "      <td>-0.670946</td>\n",
       "      <td>0.572132</td>\n",
       "      <td>0.107937</td>\n",
       "    </tr>\n",
       "    <tr>\n",
       "      <th>2</th>\n",
       "      <td>0.593086</td>\n",
       "      <td>-0.670946</td>\n",
       "      <td>1.000000</td>\n",
       "      <td>-0.843965</td>\n",
       "      <td>0.411093</td>\n",
       "    </tr>\n",
       "    <tr>\n",
       "      <th>3</th>\n",
       "      <td>-0.533739</td>\n",
       "      <td>0.572132</td>\n",
       "      <td>-0.843965</td>\n",
       "      <td>1.000000</td>\n",
       "      <td>-0.373358</td>\n",
       "    </tr>\n",
       "    <tr>\n",
       "      <th>4</th>\n",
       "      <td>-0.096045</td>\n",
       "      <td>0.107937</td>\n",
       "      <td>0.411093</td>\n",
       "      <td>-0.373358</td>\n",
       "      <td>1.000000</td>\n",
       "    </tr>\n",
       "  </tbody>\n",
       "</table>\n",
       "</div>"
      ],
      "text/plain": [
       "          0         1         2         3         4\n",
       "0  1.000000 -0.750024  0.593086 -0.533739 -0.096045\n",
       "1 -0.750024  1.000000 -0.670946  0.572132  0.107937\n",
       "2  0.593086 -0.670946  1.000000 -0.843965  0.411093\n",
       "3 -0.533739  0.572132 -0.843965  1.000000 -0.373358\n",
       "4 -0.096045  0.107937  0.411093 -0.373358  1.000000"
      ]
     },
     "execution_count": 40,
     "metadata": {},
     "output_type": "execute_result"
    }
   ],
   "source": [
    "#(3) The answer is in the pdf file\n",
    "#(4) Implement the correlation matrix\n",
    "#we can calculate the correlation matrix using transpose since data is zero mean centered   \n",
    "corr = np.matmul(normalized.T,normalized)/M  #we can easily call df.corr()\n",
    "pd.DataFrame(corr)"
   ]
  },
  {
   "cell_type": "code",
   "execution_count": 41,
   "metadata": {
    "ExecuteTime": {
     "end_time": "2020-10-19T03:16:57.689556Z",
     "start_time": "2020-10-19T03:16:57.485104Z"
    }
   },
   "outputs": [
    {
     "data": {
      "image/png": "[encoded data removed]",
      "text/plain": [
       "<Figure size 432x288 with 1 Axes>"
      ]
     },
     "metadata": {
      "needs_background": "light"
     },
     "output_type": "display_data"
    },
    {
     "data": {
      "text/html": [
       "<div>\n",
       "<style scoped>\n",
       "    .dataframe tbody tr th:only-of-type {\n",
       "        vertical-align: middle;\n",
       "    }\n",
       "\n",
       "    .dataframe tbody tr th {\n",
       "        vertical-align: top;\n",
       "    }\n",
       "\n",
       "    .dataframe thead th {\n",
       "        text-align: right;\n",
       "    }\n",
       "</style>\n",
       "<table border=\"1\" class=\"dataframe\">\n",
       "  <thead>\n",
       "    <tr style=\"text-align: right;\">\n",
       "      <th></th>\n",
       "      <th>0</th>\n",
       "      <th>1</th>\n",
       "      <th>2</th>\n",
       "      <th>3</th>\n",
       "      <th>4</th>\n",
       "    </tr>\n",
       "  </thead>\n",
       "  <tbody>\n",
       "    <tr>\n",
       "      <th>0</th>\n",
       "      <td>1.000000</td>\n",
       "      <td>-0.750024</td>\n",
       "      <td>0.593086</td>\n",
       "      <td>-0.533739</td>\n",
       "      <td>-0.096045</td>\n",
       "    </tr>\n",
       "    <tr>\n",
       "      <th>1</th>\n",
       "      <td>-0.750024</td>\n",
       "      <td>1.000000</td>\n",
       "      <td>-0.670946</td>\n",
       "      <td>0.572132</td>\n",
       "      <td>0.107937</td>\n",
       "    </tr>\n",
       "    <tr>\n",
       "      <th>2</th>\n",
       "      <td>0.593086</td>\n",
       "      <td>-0.670946</td>\n",
       "      <td>1.000000</td>\n",
       "      <td>-0.843965</td>\n",
       "      <td>0.411093</td>\n",
       "    </tr>\n",
       "    <tr>\n",
       "      <th>3</th>\n",
       "      <td>-0.533739</td>\n",
       "      <td>0.572132</td>\n",
       "      <td>-0.843965</td>\n",
       "      <td>1.000000</td>\n",
       "      <td>-0.373358</td>\n",
       "    </tr>\n",
       "    <tr>\n",
       "      <th>4</th>\n",
       "      <td>-0.096045</td>\n",
       "      <td>0.107937</td>\n",
       "      <td>0.411093</td>\n",
       "      <td>-0.373358</td>\n",
       "      <td>1.000000</td>\n",
       "    </tr>\n",
       "  </tbody>\n",
       "</table>\n",
       "</div>"
      ],
      "text/plain": [
       "          0         1         2         3         4\n",
       "0  1.000000 -0.750024  0.593086 -0.533739 -0.096045\n",
       "1 -0.750024  1.000000 -0.670946  0.572132  0.107937\n",
       "2  0.593086 -0.670946  1.000000 -0.843965  0.411093\n",
       "3 -0.533739  0.572132 -0.843965  1.000000 -0.373358\n",
       "4 -0.096045  0.107937  0.411093 -0.373358  1.000000"
      ]
     },
     "execution_count": 41,
     "metadata": {},
     "output_type": "execute_result"
    }
   ],
   "source": [
    "#(5) \n",
    "\n",
    "# Calculate the eigenvectors and eigenvalues of this square matrix.\n",
    "eig_vals,eig_vecs= np.linalg.eig(corr)\n",
    "\n",
    "\n",
    "#(6)\n",
    "idxs = np.argsort(eig_vals)[::-1]\n",
    "eig_vals = eig_vals[idxs]\n",
    "eig_vecs = eig_vecs[idxs] #updating the order of the eigenvectors in the matrix\n",
    "\n",
    "percentages  = [(eig_vals[i]*100)/eig_vals.sum() for i in range(len(eig_vals))]\n",
    "y_pos = np.arange(len(percentages))\n",
    " \n",
    "# Create bars\n",
    "plt.bar(y_pos, height=percentages,color=\"skyblue\",  edgecolor='blue' )\n",
    "plt.xlabel('Principal Components')\n",
    "plt.ylabel('Percentage of Variance')\n",
    "\n",
    "# Create names on the x-axis\n",
    "plt.xticks(y_pos, y_pos+1)\n",
    "# Show graphic\n",
    "plt.show()\n",
    "CORR_REFORMED = eig_vecs.dot(np.diag(eig_vals)).dot(eig_vecs.T)\n",
    "pd.DataFrame(CORR_REFORMED)"
   ]
  },
  {
   "cell_type": "code",
   "execution_count": 155,
   "metadata": {
    "ExecuteTime": {
     "end_time": "2020-10-19T16:16:06.383666Z",
     "start_time": "2020-10-19T16:16:06.013657Z"
    }
   },
   "outputs": [
    {
     "name": "stdout",
     "output_type": "stream",
     "text": [
      "[[ 1.39725427  0.62569463]\n",
      " [-2.82284799 -0.35731583]\n",
      " [-0.23996822 -0.87020421]\n",
      " [ 1.95902981  1.15332817]\n",
      " [ 1.28080985 -0.67020043]\n",
      " [-2.01773569 -1.31153586]\n",
      " [-1.50329665  0.63907552]\n",
      " [ 0.83727865  2.40673743]\n",
      " [ 1.19718563 -0.35373623]\n",
      " [ 1.00354879 -0.3543876 ]\n",
      " [-0.99484294  0.16138098]\n",
      " [-0.77543514 -1.20322788]\n",
      " [-2.21705531 -1.49942422]\n",
      " [ 0.85379081 -2.28296654]\n",
      " [ 2.2452386   1.60425202]\n",
      " [-1.88748062 -1.95650453]\n",
      " [-2.06008746  1.05626083]\n",
      " [-0.47664538 -0.64342825]\n",
      " [-1.58139044  0.3134875 ]\n",
      " [-2.77201685 -0.28845672]\n",
      " [ 2.35958463 -2.08819632]\n",
      " [ 1.55802122 -0.9324849 ]\n",
      " [-1.75857566 -0.58100315]\n",
      " [ 1.12197406  1.48450845]\n",
      " [-1.27824078 -0.74272096]\n",
      " [-0.99344525 -0.70264702]\n",
      " [ 1.5009033   0.68157805]\n",
      " [ 1.14413854  0.27086665]\n",
      " [-0.73218266 -0.18087962]\n",
      " [-1.57635709  2.53259106]\n",
      " [ 2.01218567 -0.11217135]\n",
      " [ 1.0149842   0.45960309]\n",
      " [ 4.21374977  0.77535504]\n",
      " [-0.8518119  -0.11291721]\n",
      " [ 0.09264148 -2.14355008]\n",
      " [-3.64635736  1.77725311]\n",
      " [-1.73848039  1.77440281]\n",
      " [-2.76050001  0.24219965]\n",
      " [ 0.49145516  0.77205117]\n",
      " [ 1.65674194  0.5285672 ]\n",
      " [ 1.26652321 -0.56258105]\n",
      " [-0.03490278 -0.08425597]\n",
      " [ 0.72909869 -0.49175287]\n",
      " [ 2.81220644 -0.59894131]\n",
      " [-0.14876879  0.22475083]\n",
      " [ 0.78770358  0.27842896]\n",
      " [ 0.35768486 -1.63684226]\n",
      " [ 2.14199292  0.08040501]\n",
      " [-2.58454396  1.32532364]\n",
      " [ 1.41724323  1.59423058]]\n"
     ]
    },
    {
     "data": {
      "text/plain": [
       "Text(0, 0.5, 'Second Component')"
      ]
     },
     "execution_count": 155,
     "metadata": {},
     "output_type": "execute_result"
    },
    {
     "data": {
      "image/png": "[encoded data removed]",
      "text/plain": [
       "<Figure size 432x288 with 1 Axes>"
      ]
     },
     "metadata": {
      "needs_background": "light"
     },
     "output_type": "display_data"
    }
   ],
   "source": [
    "#(7)\n",
    "\n",
    "#I would choose the first three Principal Components because they have a total variance of 92.739% which captures most of the data\n",
    "\n",
    "#For plotting, I am going to choose only the first two Principal Components --> eig_vecs[:2]\n",
    "\n",
    "# X.shape (50,5)\n",
    "# eig_vecs[:2].shape (2,5)\n",
    "#To project we need XVV^T\n",
    "#the column v[:,i] is the eigenvector corresponding to the eigenvalue w[i].\n",
    "two_eign = eig_vecs[:,:2]\n",
    "projected_pca = normalized.dot(two_eign)\n",
    "print(projected_pca)\n",
    "#(8)\n",
    "sns.scatterplot(x=projected_pca[:,0],y=projected_pca[:,1],color=\"skyblue\",  edgecolor='blue')\n",
    "plt.xlabel('First Component')\n",
    "plt.ylabel('Second Component')\n"
   ]
  },
  {
   "cell_type": "code",
   "execution_count": 159,
   "metadata": {
    "ExecuteTime": {
     "end_time": "2020-10-19T16:18:56.505303Z",
     "start_time": "2020-10-19T16:18:56.257148Z"
    },
    "scrolled": true
   },
   "outputs": [
    {
     "name": "stdout",
     "output_type": "stream",
     "text": [
      "[[ 1.26369241  0.16371192]\n",
      " [-2.69817947 -0.99955301]\n",
      " [-0.19140242 -1.02866305]\n",
      " [ 1.79303972  1.41111194]\n",
      " [ 1.24839307 -0.09800083]\n",
      " [-1.75314327 -0.59032903]\n",
      " [-1.55436452  0.31322903]\n",
      " [ 0.69006084  1.79463095]\n",
      " [ 1.11084869 -0.38932635]\n",
      " [ 0.9605354  -0.1190829 ]\n",
      " [-0.99854819 -0.37713438]\n",
      " [-0.56982743 -0.76554101]\n",
      " [-2.139431   -1.45889895]\n",
      " [ 0.92464542 -2.03755202]\n",
      " [ 2.03864239  0.8011931 ]\n",
      " [-1.77693583 -1.30168731]\n",
      " [-2.11558169  1.14365573]\n",
      " [-0.45024235 -0.74083715]\n",
      " [-1.57088358 -0.54037573]\n",
      " [-2.73299481 -0.72804944]\n",
      " [ 2.52647025 -1.21148663]\n",
      " [ 1.58789263 -1.27023263]\n",
      " [-1.65060408 -0.67953134]\n",
      " [ 1.39859599  1.46447131]\n",
      " [-1.17692179 -0.01597075]\n",
      " [-0.90365852 -0.81249999]\n",
      " [ 1.37638895  0.45387878]\n",
      " [ 1.14710495  0.41205173]\n",
      " [-0.81142381 -0.17350325]\n",
      " [-1.68088005  1.59509553]\n",
      " [ 1.81006533 -0.48448699]\n",
      " [ 1.1178792   0.9928107 ]\n",
      " [ 4.05649519  0.78117547]\n",
      " [-0.83913755  0.36527632]\n",
      " [ 0.31262492 -1.24239014]\n",
      " [-3.62557873  1.24858656]\n",
      " [-1.78188358  1.79451678]\n",
      " [-2.71268526  0.52287373]\n",
      " [ 0.38544671  0.39938781]\n",
      " [ 1.52205069  0.47235148]\n",
      " [ 1.31985167 -0.22846725]\n",
      " [-0.09834    -0.21670463]\n",
      " [ 0.73990679 -0.38892019]\n",
      " [ 2.86557763 -0.29499947]\n",
      " [-0.26787026  0.22989645]\n",
      " [ 0.75319059  0.44483312]\n",
      " [ 0.3770754  -1.18591128]\n",
      " [ 2.09062316  0.37897872]\n",
      " [-2.5757474   1.12222723]\n",
      " [ 1.25916758  1.07419131]]\n"
     ]
    },
    {
     "data": {
      "image/png": "[encoded data removed]",
      "text/plain": [
       "<Figure size 432x288 with 1 Axes>"
      ]
     },
     "metadata": {
      "needs_background": "light"
     },
     "output_type": "display_data"
    }
   ],
   "source": [
    "#(9)\n",
    "\n",
    "# It is not recommended to use the PCA Algorithm since it calculates all the eigenvectors for the given correlation/covariance matrix\n",
    "# Although we are going to use only some of these eigenvectors that corresponds to the highest eigenvalues\n",
    "\n",
    "#(10)\n",
    "U,S,V= np.linalg.svd(normalized, full_matrices=False, # It's not necessary to compute the full matrix of U or V\n",
    "      )\n",
    "\n",
    "print(U.shape)\n",
    "sdv_res =-U.dot( np.diag(S) )\n",
    "projected_pca =(-normalized.dot(V))\n",
    "#(11)\n",
    "sns.scatterplot(x=projected_pca[:,0],y=projected_pca[:,1],color=\"skyblue\",  edgecolor='blue')\n",
    "plt.xlabel('First Component')\n",
    "plt.ylabel('Second Component')\n",
    "\n",
    "#(12) The answer is in the PDF file\n",
    "print(-normalized.dot(V)[:,:2])"
   ]
  },
  {
   "cell_type": "code",
   "execution_count": 149,
   "metadata": {
    "ExecuteTime": {
     "end_time": "2020-10-19T16:14:10.895788Z",
     "start_time": "2020-10-19T16:14:10.661424Z"
    }
   },
   "outputs": [
    {
     "data": {
      "text/plain": [
       "<matplotlib.axes._subplots.AxesSubplot at 0x1355a832ac8>"
      ]
     },
     "execution_count": 149,
     "metadata": {},
     "output_type": "execute_result"
    },
    {
     "data": {
      "image/png": "[encoded data removed]",
      "text/plain": [
       "<Figure size 432x288 with 1 Axes>"
      ]
     },
     "metadata": {
      "needs_background": "light"
     },
     "output_type": "display_data"
    }
   ],
   "source": [
    "#USING NUMPY\n",
    "from sklearn.decomposition import PCA\n",
    "pca = PCA(n_components=2)\n",
    "projected = pca.fit_transform(normalized)\n",
    "sns.scatterplot(x=projected[:,0],y=projected[:,1],color=\"skyblue\",  edgecolor='blue')\n",
    "#pd.DataFrame(projected)"
   ]
  },
  {
   "cell_type": "code",
   "execution_count": 125,
   "metadata": {
    "ExecuteTime": {
     "end_time": "2020-10-19T11:10:49.699999Z",
     "start_time": "2020-10-19T11:10:49.524117Z"
    }
   },
   "outputs": [
    {
     "data": {
      "text/plain": [
       "<matplotlib.axes._subplots.AxesSubplot at 0x1355ad61400>"
      ]
     },
     "execution_count": 125,
     "metadata": {},
     "output_type": "execute_result"
    },
    {
     "data": {
      "image/png": "[encoded data removed]",
      "text/plain": [
       "<Figure size 432x288 with 1 Axes>"
      ]
     },
     "metadata": {
      "needs_background": "light"
     },
     "output_type": "display_data"
    }
   ],
   "source": [
    "#Plotting the original matrix without any PCA\n",
    "sns.scatterplot(x=normalized[:,0],y=normalized[:,1],color=\"skyblue\",  edgecolor='blue')"
   ]
  }
 ],
 "metadata": {
  "hide_input": false,
  "kernelspec": {
   "display_name": "Python 3",
   "language": "python",
   "name": "python3"
  },
  "language_info": {
   "codemirror_mode": {
    "name": "ipython",
    "version": 3
   },
   "file_extension": ".py",
   "mimetype": "text/x-python",
   "name": "python",
   "nbconvert_exporter": "python",
   "pygments_lexer": "ipython3",
   "version": "3.7.3"
  },
  "toc": {
   "base_numbering": 1,
   "nav_menu": {},
   "number_sections": true,
   "sideBar": true,
   "skip_h1_title": false,
   "title_cell": "Table of Contents",
   "title_sidebar": "Contents",
   "toc_cell": false,
   "toc_position": {},
   "toc_section_display": true,
   "toc_window_display": false
  },
  "varInspector": {
   "cols": {
    "lenName": 16,
    "lenType": 16,
    "lenVar": 40
   },
   "kernels_config": {
    "python": {
     "delete_cmd_postfix": "",
     "delete_cmd_prefix": "del ",
     "library": "var_list.py",
     "varRefreshCmd": "print(var_dic_list())"
    },
    "r": {
     "delete_cmd_postfix": ") ",
     "delete_cmd_prefix": "rm(",
     "library": "var_list.r",
     "varRefreshCmd": "cat(var_dic_list()) "
    }
   },
   "types_to_exclude": [
    "module",
    "function",
    "builtin_function_or_method",
    "instance",
    "_Feature"
   ],
   "window_display": false
  }
 },
 "nbformat": 4,
 "nbformat_minor": 2
}
