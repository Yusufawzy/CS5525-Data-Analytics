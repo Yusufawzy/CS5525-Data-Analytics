{
 "cells": [
  {
   "cell_type": "code",
   "execution_count": 51,
   "metadata": {
    "ExecuteTime": {
     "end_time": "2020-10-07T11:30:05.465372Z",
     "start_time": "2020-10-07T11:30:05.424254Z"
    }
   },
   "outputs": [],
   "source": [
    "%matplotlib inline\n",
    "import matplotlib.pyplot as plt"
   ]
  },
  {
   "cell_type": "code",
   "execution_count": 52,
   "metadata": {
    "ExecuteTime": {
     "end_time": "2020-10-07T11:30:06.736965Z",
     "start_time": "2020-10-07T11:30:06.713805Z"
    }
   },
   "outputs": [
    {
     "name": "stdout",
     "output_type": "stream",
     "text": [
      "[-1, 1, -1, -1, 1, -1, 1, 1, -1, 1]\n",
      "[-1, -1, -1, 1, -1, -1, 1, 1, 1, 1]\n"
     ]
    }
   ],
   "source": [
    "C1 = [0.1, 0.15, 0.2, 0.3, 0.31, 0.4, 0.62, 0.77, 0.81, 0.95]\n",
    "C2 = [0.25 ,0.49, 0.05, 0.35, 0.66, 0.6, 0.7, 0.65, 0.55, 0.99]\n",
    "y  = [-1, +1, -1, -1, +1, -1, +1, +1, -1, +1]\n",
    "y1 = [x for _,x in sorted(zip(C1,y))]\n",
    "y2 = [x for _,x in sorted(zip(C2,y))]\n",
    "print(y1)\n",
    "print(y2)"
   ]
  },
  {
   "cell_type": "code",
   "execution_count": 53,
   "metadata": {
    "ExecuteTime": {
     "end_time": "2020-10-07T11:30:08.118134Z",
     "start_time": "2020-10-07T11:30:07.812590Z"
    }
   },
   "outputs": [
    {
     "name": "stdout",
     "output_type": "stream",
     "text": [
      "[1.0, 1.0, 0.8, 0.8, 0.8, 0.6, 0.6, 0.4, 0.2, 0.2, 0.0]\n",
      "[1.0, 0.8, 0.8, 0.6, 0.4, 0.4, 0.2, 0.2, 0.2, 0.0, 0.0]\n"
     ]
    },
    {
     "data": {
      "text/plain": [
       "Text(0, 0.5, 'TPR')"
      ]
     },
     "execution_count": 53,
     "metadata": {},
     "output_type": "execute_result"
    },
    {
     "data": {
      "image/png": "[encoded data removed]",
      "text/plain": [
       "<Figure size 432x288 with 1 Axes>"
      ]
     },
     "metadata": {
      "needs_background": "light"
     },
     "output_type": "display_data"
    }
   ],
   "source": [
    "#Model 1\n",
    "\n",
    "TPR ,FPR = [],[]\n",
    "for i in range(len(y)+1):\n",
    "    \n",
    "    TP,FP,TN,FN = 0,0,0,0\n",
    "    #all in this for loop is considered negative\n",
    "    for k in range(0,i):\n",
    "        if (y1[k]==-1):\n",
    "            TN +=1\n",
    "        else: FN +=1\n",
    "        \n",
    "    #all in this for loop is considered positive\n",
    "    for k in range(i,len(y)):\n",
    "        if (y1[k]==+1):\n",
    "            TP +=1\n",
    "        else :FP+=1\n",
    "    TPR.append(TP/(TP+FN))\n",
    "    FPR.append(FP/(FP+TN))\n",
    "    \n",
    "print(TPR)\n",
    "print(FPR)\n",
    "plt.plot(FPR,TPR,color='blue', marker='o', linewidth=2, markersize=7)\n",
    "plt.xlabel('FPR')\n",
    "plt.ylabel('TPR')"
   ]
  },
  {
   "cell_type": "code",
   "execution_count": 54,
   "metadata": {
    "ExecuteTime": {
     "end_time": "2020-10-07T11:30:10.234448Z",
     "start_time": "2020-10-07T11:30:09.582133Z"
    }
   },
   "outputs": [
    {
     "name": "stdout",
     "output_type": "stream",
     "text": [
      "[1.0, 1.0, 1.0, 1.0, 0.8, 0.8, 0.8, 0.6, 0.4, 0.2, 0.0]\n",
      "[1.0, 0.8, 0.6, 0.4, 0.4, 0.2, 0.0, 0.0, 0.0, 0.0, 0.0]\n"
     ]
    },
    {
     "data": {
      "text/plain": [
       "Text(0, 0.5, 'TPR')"
      ]
     },
     "execution_count": 54,
     "metadata": {},
     "output_type": "execute_result"
    },
    {
     "data": {
      "image/png": "[encoded data removed]",
      "text/plain": [
       "<Figure size 432x288 with 1 Axes>"
      ]
     },
     "metadata": {
      "needs_background": "light"
     },
     "output_type": "display_data"
    }
   ],
   "source": [
    "#Model 2\n",
    "\n",
    "TPR ,FPR = [],[]\n",
    "for i in range(len(y)+1):\n",
    "    \n",
    "    TP,FP,TN,FN = 0,0,0,0\n",
    "    #all in this for loop is considered negative\n",
    "    for k in range(0,i):\n",
    "        if (y2[k]==-1):\n",
    "            TN +=1\n",
    "        else: FN +=1\n",
    "        \n",
    "    #all in this for loop is considered positive\n",
    "    for k in range(i,len(y)):\n",
    "        if (y2[k]==+1):\n",
    "            TP +=1\n",
    "        else :FP+=1\n",
    "    TPR.append(TP/(TP+FN))\n",
    "    FPR.append(FP/(FP+TN))\n",
    "    \n",
    "print(TPR)\n",
    "print(FPR)\n",
    "plt.plot(FPR,TPR,color='blue', marker='o', linewidth=2, markersize=7)\n",
    "plt.xlabel('FPR')\n",
    "plt.ylabel('TPR')"
   ]
  }
 ],
 "metadata": {
  "hide_input": false,
  "kernelspec": {
   "display_name": "Python 3",
   "language": "python",
   "name": "python3"
  },
  "language_info": {
   "codemirror_mode": {
    "name": "ipython",
    "version": 3
   },
   "file_extension": ".py",
   "mimetype": "text/x-python",
   "name": "python",
   "nbconvert_exporter": "python",
   "pygments_lexer": "ipython3",
   "version": "3.7.3"
  },
  "toc": {
   "base_numbering": 1,
   "nav_menu": {},
   "number_sections": true,
   "sideBar": true,
   "skip_h1_title": false,
   "title_cell": "Table of Contents",
   "title_sidebar": "Contents",
   "toc_cell": false,
   "toc_position": {},
   "toc_section_display": true,
   "toc_window_display": false
  },
  "varInspector": {
   "cols": {
    "lenName": 16,
    "lenType": 16,
    "lenVar": 40
   },
   "kernels_config": {
    "python": {
     "delete_cmd_postfix": "",
     "delete_cmd_prefix": "del ",
     "library": "var_list.py",
     "varRefreshCmd": "print(var_dic_list())"
    },
    "r": {
     "delete_cmd_postfix": ") ",
     "delete_cmd_prefix": "rm(",
     "library": "var_list.r",
     "varRefreshCmd": "cat(var_dic_list()) "
    }
   },
   "types_to_exclude": [
    "module",
    "function",
    "builtin_function_or_method",
    "instance",
    "_Feature"
   ],
   "window_display": false
  }
 },
 "nbformat": 4,
 "nbformat_minor": 2
}
