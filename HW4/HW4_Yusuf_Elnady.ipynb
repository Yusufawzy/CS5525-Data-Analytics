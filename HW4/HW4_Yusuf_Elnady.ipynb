{
 "cells": [
  {
   "cell_type": "markdown",
   "metadata": {},
   "source": [
    "## Name: Yusuf Elnady"
   ]
  },
  {
   "cell_type": "markdown",
   "metadata": {
    "ExecuteTime": {
     "end_time": "2020-11-17T01:35:42.545431Z",
     "start_time": "2020-11-17T01:35:42.534462Z"
    }
   },
   "source": [
    "**Importing the required modules and fetching the dataset**"
   ]
  },
  {
   "cell_type": "code",
   "execution_count": 112,
   "metadata": {
    "ExecuteTime": {
     "end_time": "2020-11-17T01:33:51.472488Z",
     "start_time": "2020-11-17T01:33:50.837188Z"
    }
   },
   "outputs": [],
   "source": [
    "from sklearn.datasets import fetch_20newsgroups\n",
    "from sklearn.feature_extraction.text import TfidfVectorizer\n",
    "from sklearn.decomposition import TruncatedSVD\n",
    "from nltk.corpus import stopwords \n",
    "from nltk.tokenize import word_tokenize \n",
    "from sklearn.pipeline import Pipeline\n",
    "from sklearn.naive_bayes import MultinomialNB\n",
    "from sklearn.metrics import f1_score\n",
    "from sklearn.linear_model import LogisticRegression\n",
    "from sklearn.model_selection import GridSearchCV\n",
    "import nltk\n",
    "import pandas as pd\n",
    "from sklearn.metrics import classification_report, confusion_matrix\n",
    "from xgboost import XGBClassifier\n",
    "\n",
    "train = fetch_20newsgroups(subset='train') #11314 Data Points\n",
    "test = fetch_20newsgroups(subset='test') #7532 Data Points"
   ]
  },
  {
   "cell_type": "code",
   "execution_count": 88,
   "metadata": {
    "ExecuteTime": {
     "end_time": "2020-11-16T23:59:43.294207Z",
     "start_time": "2020-11-16T23:26:52.420215Z"
    }
   },
   "outputs": [
    {
     "name": "stdout",
     "output_type": "stream",
     "text": [
      "showing info https://raw.githubusercontent.com/nltk/nltk_data/gh-pages/index.xml\n"
     ]
    },
    {
     "data": {
      "text/plain": [
       "True"
      ]
     },
     "execution_count": 88,
     "metadata": {},
     "output_type": "execute_result"
    }
   ],
   "source": [
    "nltk.download()"
   ]
  },
  {
   "cell_type": "markdown",
   "metadata": {},
   "source": [
    "**Preprocessing the data by removing the stop words**"
   ]
  },
  {
   "cell_type": "code",
   "execution_count": 113,
   "metadata": {
    "ExecuteTime": {
     "end_time": "2020-11-17T01:34:16.632166Z",
     "start_time": "2020-11-17T01:33:57.410601Z"
    }
   },
   "outputs": [],
   "source": [
    "# Get all stopwords from ntlk\n",
    "stop = stopwords.words('english')\n",
    "\n",
    "#split each datapoint pargraph into words, then remove words, return list of important words, join them into a pargraph\n",
    "train_X = pd.DataFrame(train.data,columns=['data'])\n",
    "test_X = pd.DataFrame(test.data,columns=['data'])\n",
    "\n",
    "\n",
    "train_X = list(train_X['data'].apply(lambda x: ' '.join([word for word in x.split() if word not in (stop)])))\n",
    "test_X = list(test_X['data'].apply(lambda x: ' '.join([word for word in x.split() if word not in (stop)])))\n",
    "\n",
    "# pprint(train.data) \"pprint\" to print whatever the long output\n",
    "# print.data is just have a shape of 11314 (Dimensionality = 1)\n",
    "\n",
    "#After Vectorizing, the shape will be (11314, 130107), which means it created 130107 columns for each data point\n",
    "\n",
    "#Vectorizing either training or test sets, produces the same number of columns after fitting the training data to it\n",
    "\n",
    "# All of these vectorizers and classifiers are put later in a Pipeline.\n",
    "\n",
    "\n"
   ]
  },
  {
   "cell_type": "markdown",
   "metadata": {},
   "source": [
    "**Converting Text into Numerical Vectors using Tf-Idf Vectorizer**\n",
    "\n",
    "**Using a classifier Multinomial Naive Bayes to be trained**\n",
    "\n",
    "**Putting all in a pipeline to clean the code**\n",
    "\n",
    "**Predicting using the test set, and getting some evaluation metrics such as the accuracy and F1-Score**"
   ]
  },
  {
   "cell_type": "code",
   "execution_count": 114,
   "metadata": {
    "ExecuteTime": {
     "end_time": "2020-11-17T01:34:29.000074Z",
     "start_time": "2020-11-17T01:34:21.803331Z"
    }
   },
   "outputs": [
    {
     "name": "stdout",
     "output_type": "stream",
     "text": [
      "Accuracy is 82.43494423791822\n",
      "F1-Score is 81.68224048271883\n"
     ]
    }
   ],
   "source": [
    "clf = Pipeline([('tfidf', TfidfVectorizer(max_df=0.3, min_df=0.001)),\n",
    "                 ('NB_clf',MultinomialNB(alpha=.1))])\n",
    "#                 ('svd',TruncatedSVD(algorithm='randomized', n_components=300)),\n",
    "#                 ('xgb',XGBClassifier(max_depth=3, n_estimators=1000, \n",
    "#                                       learning_rate=0.075, colsample_bytree=0.7, subsample=0.8))\n",
    "#                \n",
    "# LogisticRegression(random_state=0,multi_class='auto')\n",
    "\n",
    "clf = clf.fit(train_X, train.target)\n",
    "pred = clf.predict(test_X)\n",
    "\n",
    "print(\"Accuracy is\",np.mean(pred == test.target)*100)\n",
    "print(\"F1-Score is\",f1_score(test.target, pred,average='macro')*100)"
   ]
  },
  {
   "cell_type": "markdown",
   "metadata": {},
   "source": [
    "**The last cell was used to tune the parameters and get the best ones, I tried also using the XGBoost Classifier but it took long time to get results, so I removed it**"
   ]
  },
  {
   "cell_type": "code",
   "execution_count": null,
   "metadata": {
    "ExecuteTime": {
     "end_time": "2020-11-17T00:14:55.805287Z",
     "start_time": "2020-11-17T00:14:35.812973Z"
    },
    "scrolled": true
   },
   "outputs": [],
   "source": [
    "# Parameters are name-of-classifier__param_name :(..,...) and GridSearchCV will return the best for us.\n",
    "\n",
    "# We already have the names from Pipeline that we used to combine everything.\n",
    "\n",
    "# I used it to obtain the best parameter to be used in the above NB Classifier\n",
    "\n",
    "parameters = {'NB_clf__alpha': (100,0.0001) }\n",
    "\n",
    "grid_gearch = GridSearchCV(clf, parameters, n_jobs=-1)\n",
    "\n",
    "grid_gearch = grid_gearch.fit(train_X, train.target)\n",
    "\n",
    "print(grid_gearch.best_score_, grid_gearch.best_params_)"
   ]
  }
 ],
 "metadata": {
  "hide_input": false,
  "kernelspec": {
   "display_name": "Python 3",
   "language": "python",
   "name": "python3"
  },
  "language_info": {
   "codemirror_mode": {
    "name": "ipython",
    "version": 3
   },
   "file_extension": ".py",
   "mimetype": "text/x-python",
   "name": "python",
   "nbconvert_exporter": "python",
   "pygments_lexer": "ipython3",
   "version": "3.7.3"
  },
  "toc": {
   "base_numbering": 1,
   "nav_menu": {},
   "number_sections": true,
   "sideBar": true,
   "skip_h1_title": false,
   "title_cell": "Table of Contents",
   "title_sidebar": "Contents",
   "toc_cell": false,
   "toc_position": {},
   "toc_section_display": true,
   "toc_window_display": false
  },
  "varInspector": {
   "cols": {
    "lenName": 16,
    "lenType": 16,
    "lenVar": 40
   },
   "kernels_config": {
    "python": {
     "delete_cmd_postfix": "",
     "delete_cmd_prefix": "del ",
     "library": "var_list.py",
     "varRefreshCmd": "print(var_dic_list())"
    },
    "r": {
     "delete_cmd_postfix": ") ",
     "delete_cmd_prefix": "rm(",
     "library": "var_list.r",
     "varRefreshCmd": "cat(var_dic_list()) "
    }
   },
   "types_to_exclude": [
    "module",
    "function",
    "builtin_function_or_method",
    "instance",
    "_Feature"
   ],
   "window_display": false
  }
 },
 "nbformat": 4,
 "nbformat_minor": 2
}
